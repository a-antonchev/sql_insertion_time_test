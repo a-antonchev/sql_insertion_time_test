{
 "cells": [
  {
   "cell_type": "markdown",
   "id": "bb5a5161",
   "metadata": {},
   "source": [
    "## PostgreSQL"
   ]
  },
  {
   "cell_type": "markdown",
   "id": "386fe966",
   "metadata": {},
   "source": [
    "#### Замеры времени вставки данных в БД PostgreSQL"
   ]
  },
  {
   "cell_type": "markdown",
   "id": "27b386ce",
   "metadata": {},
   "source": [
    "Справочно: мои значения при вставке 1_000_000 записей на сервер Postgres, расположенный в локальной 1G сети:\n",
    "\n",
    "**1. psycopg2**\n",
    "\n",
    "- 1.1. Cursor.execute: в цикле при вставке из генератора: 246.3413 секунд\n",
    "- 1.2. Cursor.executemany: при вставке из генератора: 240.3837 секунд\n",
    "- 1.3. extras.execute_values при вставке из генератора: 14.0147 секунд\n",
    "- 2.1. Cursor.copy_from при вставке из CSV-файла: 1.5685 секунд\n",
    "\n",
    "**2. sqlalchemy + pandas DataFrame.to_sql**\n",
    "\n",
    "- 2.1. pandas DataFrame.to_sql при вставке из DataFrame: 40.1986 секунд"
   ]
  },
  {
   "cell_type": "code",
   "execution_count": null,
   "id": "307d5745",
   "metadata": {},
   "outputs": [],
   "source": [
    "import time\n",
    "import csv\n",
    "\n",
    "import psycopg2\n",
    "import psycopg2.extras\n",
    "import sqlalchemy\n",
    "import pandas as pd\n",
    "\n",
    "\n",
    "def db_init(db_params: dict, query_drop: str, query_create:str):\n",
    "    \"\"\"Инициализирует базу данных Postgres.\"\"\"    \n",
    "    conn = psycopg2.connect(**db_params)\n",
    "    cur = conn.cursor()\n",
    "    cur.execute(query_drop)\n",
    "    cur.execute(query_create)\n",
    "    conn.commit()\n",
    "    cur.close()\n",
    "    conn.close()\n",
    "\n",
    "\n",
    "def iter_data(size: int):\n",
    "    \"\"\"Генерирует последовательность кортежей с данными пользователя.\"\"\"    \n",
    "    for i in range(size):\n",
    "        yield (i, f\"user_{i}\", f\"user_{i}@example.org\")\n",
    "\n",
    "\n",
    "# num_records = 10_000\n",
    "# num_records = 100_000\n",
    "num_records = 1_000_000\n",
    "\n",
    "query_drop_table = \"drop table if exists users\"\n",
    "query_create_table = \"create table if not exists users(id int, username varchar(15), email varchar(30))\"\n",
    "\n",
    "db_params = {\n",
    "    \"host\": \"192.168.1.55\",\n",
    "    \"port\": \"15432\",\n",
    "    \"user\": \"postgres\",\n",
    "    \"password\": \"postgres\",\n",
    "    \"dbname\": \"test\",\n",
    "}\n",
    "dsn = f\"postgresql+psycopg2://{db_params['user']}:{db_params['password']}@{db_params['host']}:{db_params['port']}/{db_params['dbname']}\"\n",
    "\n",
    "# сформировать CSV-файл\n",
    "csv_file = \"/tmp/users.tsv\"\n",
    "fieldnames = [\"id\", \"username\", \"email\"]\n",
    "with open(csv_file, \"w\", encoding=\"utf-8\") as f:\n",
    "    writer = csv.writer(f, delimiter=\"\\t\")\n",
    "    writer.writerow(fieldnames)\n",
    "    writer.writerows(iter_data(num_records))"
   ]
  },
  {
   "cell_type": "markdown",
   "id": "5cad766f",
   "metadata": {},
   "source": [
    "### 1. psycopg2"
   ]
  },
  {
   "cell_type": "markdown",
   "id": "f03adaf4",
   "metadata": {},
   "source": [
    "1.1. Вставка с использованием execute в цикле"
   ]
  },
  {
   "cell_type": "code",
   "execution_count": null,
   "id": "d35d7c0d",
   "metadata": {},
   "outputs": [],
   "source": [
    "data_to_insert = iter_data(num_records)\n",
    "\n",
    "db_init(db_params, query_drop_table, query_create_table)\n",
    "\n",
    "query = \"insert into users values (%s, %s, %s)\"\n",
    "\n",
    "conn = psycopg2.connect(**db_params)\n",
    "cur = conn.cursor()\n",
    "# <measuring time start block>\n",
    "start_time = time.perf_counter()\n",
    "for record in data_to_insert:\n",
    "    cur.execute(query, record)\n",
    "conn.commit()\n",
    "end_time = time.perf_counter()\n",
    "# <measuring time end block>\n",
    "cur.close()\n",
    "conn.close()\n",
    "print(\n",
    "    f\"psycopg2 execute в цикле: операция вставки заняла {end_time - start_time:.4f} секунд\"\n",
    ")"
   ]
  },
  {
   "cell_type": "markdown",
   "id": "ca2bf37f",
   "metadata": {},
   "source": [
    "1.2. Вставка c использованием executemany"
   ]
  },
  {
   "cell_type": "code",
   "execution_count": null,
   "id": "70c815f2",
   "metadata": {},
   "outputs": [],
   "source": [
    "data_to_insert = iter_data(num_records)\n",
    "\n",
    "db_init(db_params, query_drop_table, query_create_table)\n",
    "\n",
    "query = \"insert into users values (%s, %s, %s)\"\n",
    "\n",
    "conn = psycopg2.connect(**db_params)\n",
    "cur = conn.cursor()\n",
    "# <measuring time start block>\n",
    "start_time = time.perf_counter()\n",
    "cur.executemany(query, data_to_insert)\n",
    "conn.commit()\n",
    "end_time = time.perf_counter()\n",
    "# <measuring time end block>\n",
    "cur.close()\n",
    "conn.close()\n",
    "print(\n",
    "    f\"psycopg2 executemany: операция вставки заняла {end_time - start_time:.4f} секунд\"\n",
    ")"
   ]
  },
  {
   "cell_type": "markdown",
   "id": "c0797068",
   "metadata": {},
   "source": [
    "1.3. Вставка с использованием execute_values"
   ]
  },
  {
   "cell_type": "code",
   "execution_count": null,
   "id": "41658634",
   "metadata": {},
   "outputs": [],
   "source": [
    "data_to_insert = iter_data(num_records)\n",
    "\n",
    "db_init(db_params, query_drop_table, query_create_table)\n",
    "\n",
    "query = \"insert into users values %s\"\n",
    "\n",
    "conn = psycopg2.connect(**db_params)\n",
    "cur = conn.cursor()\n",
    "# <measuring time start block>\n",
    "start_time = time.perf_counter()\n",
    "\n",
    "# execute_values: по умолчанию page_size = 100, при этом значении время вставки ~35 секунд:\n",
    "psycopg2.extras.execute_values(cur=cur, sql=query, argslist=data_to_insert, page_size=500_000)\n",
    "conn.commit()\n",
    "end_time = time.perf_counter()\n",
    "# <measuring time end block>\n",
    "cur.close()\n",
    "conn.close()\n",
    "print(\n",
    "    f\"psycopg2.extras execute_values: операция вставки заняла {end_time - start_time:.4f} секунд\"\n",
    ")"
   ]
  },
  {
   "cell_type": "markdown",
   "id": "a51fddb5",
   "metadata": {},
   "source": [
    "1.4. Вставка с использованием copy_from"
   ]
  },
  {
   "cell_type": "code",
   "execution_count": null,
   "id": "7d4dc683",
   "metadata": {},
   "outputs": [],
   "source": [
    "db_init(db_params, query_drop_table, query_create_table)\n",
    "\n",
    "conn = psycopg2.connect(**db_params)\n",
    "cur = conn.cursor()\n",
    "f = open(\"/tmp/users.tsv\", \"r\", encoding=\"utf-8\")\n",
    "f.readline()  # пропускаем строку заголовков\n",
    "# <measuring time start block>\n",
    "start_time = time.perf_counter()\n",
    "cur.copy_from(f, \"users\")\n",
    "conn.commit()\n",
    "end_time = time.perf_counter()\n",
    "# <measuring time end block>\n",
    "f.close()\n",
    "cur.close()\n",
    "conn.close()\n",
    "print(\n",
    "    f\"psycopg2 copy_from: операция вставки заняла {end_time - start_time:.4f} секунд\"\n",
    ")"
   ]
  },
  {
   "cell_type": "markdown",
   "id": "1246ded4",
   "metadata": {},
   "source": [
    "### 2. sqlalchemy + pandas DataFrame.to_sql"
   ]
  },
  {
   "cell_type": "markdown",
   "id": "43cc044f",
   "metadata": {},
   "source": [
    "2.2. Вставка с использованием DataFrame.to_sql"
   ]
  },
  {
   "cell_type": "code",
   "execution_count": null,
   "id": "04129ad2",
   "metadata": {},
   "outputs": [],
   "source": [
    "db_init(db_params, query_drop_table, query_create_table)\n",
    "\n",
    "engine = sqlalchemy.create_engine(dsn)\n",
    "df = pd.read_csv(csv_file, delimiter=\"\\t\")\n",
    "# <measuring time start block>\n",
    "start_time = time.perf_counter()\n",
    "df.to_sql(\n",
    "    con=engine, name=\"users\", if_exists=\"append\", index=False\n",
    ")\n",
    "# df.to_sql(\n",
    "#     con=engine, name=\"users\", if_exists=\"append\", method='multi', index=False, chunksize=100_000\n",
    "# )\n",
    "end_time = time.perf_counter()\n",
    "# <measuring time end block>\n",
    "print(\n",
    "    f\"pandas.DataFrame.to_sql: операция вставки заняла {end_time - start_time:.4f} секунд\"\n",
    ")"
   ]
  }
 ],
 "metadata": {
  "kernelspec": {
   "display_name": ".venv",
   "language": "python",
   "name": "python3"
  },
  "language_info": {
   "codemirror_mode": {
    "name": "ipython",
    "version": 3
   },
   "file_extension": ".py",
   "mimetype": "text/x-python",
   "name": "python",
   "nbconvert_exporter": "python",
   "pygments_lexer": "ipython3",
   "version": "3.11.2"
  }
 },
 "nbformat": 4,
 "nbformat_minor": 5
}
