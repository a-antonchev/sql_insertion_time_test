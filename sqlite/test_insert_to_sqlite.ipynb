{
 "cells": [
  {
   "cell_type": "markdown",
   "id": "3cfa950b",
   "metadata": {},
   "source": [
    "## SQLite"
   ]
  },
  {
   "cell_type": "markdown",
   "id": "eb09f0cd",
   "metadata": {},
   "source": [
    "#### Замеры времени вставки данных в БД SQLite"
   ]
  },
  {
   "cell_type": "markdown",
   "id": "839e944b",
   "metadata": {},
   "source": [
    "Справочно: мои значения при вставке 1_000_000 записей в БД на локальном SSD-диске:\n",
    "- 1.1. sqlite3 execute в цикле: операция вставки заняла 3.7824 секунд\n",
    "- 2.1. sqlite3 executemany: операция вставки заняла 2.7647 секунд"
   ]
  },
  {
   "cell_type": "code",
   "execution_count": null,
   "id": "bce253c5",
   "metadata": {},
   "outputs": [],
   "source": [
    "import pathlib\n",
    "import time\n",
    "import sqlite3\n",
    "\n",
    "\n",
    "def init_db(filename: str, query: str):\n",
    "    \"\"\"Инициализирует базу данных SQLite.\"\"\"\n",
    "    if pathlib.Path(filename).exists() and pathlib.Path(filename).is_file():\n",
    "        pathlib.Path(filename).unlink()\n",
    "\n",
    "    conn = sqlite3.connect(filename)\n",
    "    cur = conn.cursor()\n",
    "    cur.execute(query)\n",
    "    conn.commit()\n",
    "    conn.close()\n",
    "\n",
    "\n",
    "def iter_data(size: int):\n",
    "    \"\"\"Генерирует последовательность кортежей с данными пользователя.\"\"\"\n",
    "    for i in range(size):\n",
    "        yield (i, f\"user_{i}\", f\"user_{i}@example.org\")\n",
    "\n",
    "\n",
    "# num_records = 1_000\n",
    "# num_records = 10_000\n",
    "num_records = 1_000_000\n",
    "\n",
    "db_file = \"/tmp/test_perfomance.db\"\n",
    "\n",
    "query_create_table = (\n",
    "    \"create table if not exists users(id int, username text, email text)\"\n",
    ")\n",
    "query_insert_data = \"insert into users values (?, ?, ?)\"\n"
   ]
  },
  {
   "cell_type": "markdown",
   "id": "69f58b83",
   "metadata": {},
   "source": [
    "1.1. Вставка с использованием execute в цикле"
   ]
  },
  {
   "cell_type": "code",
   "execution_count": null,
   "id": "77b61e95",
   "metadata": {},
   "outputs": [],
   "source": [
    "data_to_insert = iter_data(num_records)\n",
    "init_db(db_file, query_create_table)\n",
    "\n",
    "conn = sqlite3.connect(db_file)\n",
    "cur = conn.cursor()\n",
    "# <measuring time start block>\n",
    "start_time = time.perf_counter()\n",
    "for record in data_to_insert:\n",
    "    cur.execute(query_insert_data, record)\n",
    "conn.commit()\n",
    "end_time = time.perf_counter()\n",
    "# <measuring time end block>\n",
    "conn.close()\n",
    "print(\n",
    "    f\"sqlite3 execute в цикле: операция вставки заняла {end_time - start_time:.4f} секунд\"\n",
    ")"
   ]
  },
  {
   "cell_type": "markdown",
   "id": "b36fcee3",
   "metadata": {},
   "source": [
    "2.1. Вставка с использованием executemany"
   ]
  },
  {
   "cell_type": "code",
   "execution_count": null,
   "id": "b8bffcc8",
   "metadata": {},
   "outputs": [],
   "source": [
    "data_to_insert = iter_data(num_records)\n",
    "init_db(db_file, query_create_table)\n",
    "\n",
    "conn = sqlite3.connect(db_file)\n",
    "cur = conn.cursor()\n",
    "# <measuring time start block>\n",
    "start_time = time.perf_counter()\n",
    "cur.executemany(query_insert_data, data_to_insert)\n",
    "conn.commit()\n",
    "end_time = time.perf_counter()\n",
    "# <measuring time end block>\n",
    "conn.close()\n",
    "print(\n",
    "    f\"sqlite3 executemany: операция вставки заняла {end_time - start_time:.4f} секунд\"\n",
    ")"
   ]
  }
 ],
 "metadata": {
  "kernelspec": {
   "display_name": ".venv",
   "language": "python",
   "name": "python3"
  },
  "language_info": {
   "codemirror_mode": {
    "name": "ipython",
    "version": 3
   },
   "file_extension": ".py",
   "mimetype": "text/x-python",
   "name": "python",
   "nbconvert_exporter": "python",
   "pygments_lexer": "ipython3",
   "version": "3.11.2"
  }
 },
 "nbformat": 4,
 "nbformat_minor": 5
}
